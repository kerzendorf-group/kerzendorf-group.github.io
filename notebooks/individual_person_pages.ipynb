{
 "cells": [
  {
   "cell_type": "code",
   "execution_count": 1,
   "metadata": {},
   "outputs": [],
   "source": [
    "from jinja2 import Environment, FileSystemLoader\n",
    "import json"
   ]
  },
  {
   "cell_type": "code",
   "execution_count": 2,
   "metadata": {},
   "outputs": [],
   "source": [
    "def page_link(a):\n",
    "    if ' ' in a:\n",
    "        return a.replace(\" \", \"_\")\n",
    "    else: \n",
    "        return a"
   ]
  },
  {
   "cell_type": "code",
   "execution_count": 3,
   "metadata": {},
   "outputs": [],
   "source": [
    "environment = Environment(loader=FileSystemLoader(\"../templates/\"))\n",
    "environment.globals['page_link'] = page_link\n",
    "template = environment.get_template(\"individual_person.html.j2\")"
   ]
  },
  {
   "cell_type": "code",
   "execution_count": 4,
   "metadata": {},
   "outputs": [],
   "source": [
    "json_files = [\"general\", \"instructor\", \"post_docs\", \"grad_students\", \"undergrads\", \"alumni\"]\n",
    "data = {}\n",
    "for json_file in json_files:\n",
    "    with open(f\"../jsons/{json_file}.json\") as json_var:\n",
    "        data[json_file] = json.load(json_var)"
   ]
  },
  {
   "cell_type": "code",
   "execution_count": 5,
   "metadata": {},
   "outputs": [],
   "source": [
    "for role in [data[\"instructor\"], data[\"post_docs\"], data[\"grad_students\"], data[\"undergrads\"], data[\"alumni\"]]:\n",
    "    for person in role[1:]:\n",
    "        filename = f\"../people/{ page_link(person['name'])}.html\"\n",
    "        content = template.render(general=data['general'], person=person)\n",
    "        with open(filename, mode=\"w\", encoding=\"utf-8\") as page:\n",
    "            page.write(content)"
   ]
  },
  {
   "cell_type": "code",
   "execution_count": 6,
   "metadata": {},
   "outputs": [],
   "source": [
    "with open(filename, mode=\"w\", encoding=\"utf-8\") as page:\n",
    "    page.write(content)"
   ]
  }
 ],
 "metadata": {
  "kernelspec": {
   "display_name": "Python 3",
   "language": "python",
   "name": "python3"
  },
  "language_info": {
   "codemirror_mode": {
    "name": "ipython",
    "version": 3
   },
   "file_extension": ".py",
   "mimetype": "text/x-python",
   "name": "python",
   "nbconvert_exporter": "python",
   "pygments_lexer": "ipython3",
   "version": "3.8.2"
  },
  "vscode": {
   "interpreter": {
    "hash": "31f2aee4e71d21fbe5cf8b01ff0e069b9275f58929596ceb00d14d90e3e16cd6"
   }
  }
 },
 "nbformat": 4,
 "nbformat_minor": 2
}
